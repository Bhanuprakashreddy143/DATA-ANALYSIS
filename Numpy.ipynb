{
  "cells": [
    {
      "cell_type": "code",
      "execution_count": null,
      "metadata": {
        "colab": {
          "base_uri": "https://localhost:8080/"
        },
        "id": "OiONHOydqDc7",
        "outputId": "b215a66b-acdb-41bb-b766-dad2e2c43f9b"
      },
      "outputs": [
        {
          "output_type": "stream",
          "name": "stdout",
          "text": [
            "[1 2 3 4 5]\n"
          ]
        }
      ],
      "source": [
        "import numpy as np\n",
        "arr=np.array([1,2,3,4,5],dtype=int)\n",
        "print(arr)"
      ]
    },
    {
      "cell_type": "code",
      "source": [],
      "metadata": {
        "id": "F-7FV7JIWxvh"
      },
      "execution_count": null,
      "outputs": []
    },
    {
      "cell_type": "code",
      "execution_count": null,
      "metadata": {
        "colab": {
          "base_uri": "https://localhost:8080/"
        },
        "id": "iXIvaOx1qoZi",
        "outputId": "76f4e306-969b-4a9c-f874-db05dd7b51dd"
      },
      "outputs": [
        {
          "name": "stdout",
          "output_type": "stream",
          "text": [
            "[[0 0 0]\n",
            " [0 0 0]\n",
            " [0 0 0]]\n",
            "[[1 1]\n",
            " [1 1]]\n",
            "[0 1 2 3 4]\n"
          ]
        }
      ],
      "source": [
        "import numpy as np\n",
        "zeros_arr=np.zeros((3,3),dtype=int)\n",
        "\n",
        "print(zeros_arr)\n",
        "ones_arr=np.ones((2,2),dtype=int)\n",
        "print(ones_arr)\n",
        "\n",
        "arange_arr=np.arange(5)\n",
        "print(arange_arr)"
      ]
    },
    {
      "cell_type": "code",
      "execution_count": null,
      "metadata": {
        "colab": {
          "base_uri": "https://localhost:8080/"
        },
        "id": "7HU0dYfisfF0",
        "outputId": "7332f676-f5da-4b87-c9e0-20930d41661e"
      },
      "outputs": [
        {
          "name": "stdout",
          "output_type": "stream",
          "text": [
            "[[1]\n",
            " [2]\n",
            " [3]\n",
            " [4]\n",
            " [5]]\n",
            "[3]\n"
          ]
        }
      ],
      "source": [
        "import numpy as np\n",
        "#Array manuculation\n",
        "#arr=np.array([1,2,3,4,5],dtype=int)\n",
        "reshaped_arr=arr.reshape(5,1)\n",
        "print(reshaped_arr)\n",
        "\n"
      ]
    },
    {
      "cell_type": "code",
      "execution_count": null,
      "metadata": {
        "colab": {
          "base_uri": "https://localhost:8080/"
        },
        "id": "bQNoB3gZtgCr",
        "outputId": "b7170099-c8c1-4116-e532-66e4fb2bfbdd"
      },
      "outputs": [
        {
          "name": "stdout",
          "output_type": "stream",
          "text": [
            "[11 12 13 14 15 16 18 19]\n"
          ]
        }
      ],
      "source": [
        "#transpose of the array\n",
        "\n",
        "a=np.array([11,12,13,14,15,16,18,19])\n",
        "b=a.T\n",
        "print(b)"
      ]
    },
    {
      "cell_type": "code",
      "execution_count": null,
      "metadata": {
        "colab": {
          "base_uri": "https://localhost:8080/"
        },
        "id": "GrR7Icsnt66t",
        "outputId": "2739466b-e2fd-4bf5-effd-52b22efd4658"
      },
      "outputs": [
        {
          "name": "stdout",
          "output_type": "stream",
          "text": [
            "[array([11, 12]), array([13, 14]), array([15, 16]), array([18, 19])]\n"
          ]
        }
      ],
      "source": [
        "#.split function\n",
        "b=np.split(a,4)\n",
        "print(b)"
      ]
    },
    {
      "cell_type": "code",
      "execution_count": null,
      "metadata": {
        "colab": {
          "base_uri": "https://localhost:8080/"
        },
        "id": "D1zT6PY0wGxg",
        "outputId": "99d735ec-914a-42ad-d644-323723d2ef4a"
      },
      "outputs": [
        {
          "name": "stdout",
          "output_type": "stream",
          "text": [
            "[[19 22]\n",
            " [43 50]]\n",
            "EigResult(eigenvalues=array([5.80198014e-02, 6.89419802e+01]), eigenvectors=array([[-0.75781077, -0.40313049],\n",
            "       [ 0.65247439, -0.91514251]]))\n"
          ]
        }
      ],
      "source": [
        "a=np.array([[1,2],[3,4]])\n",
        "b=np.array([[5,6],[7,8]])\n",
        "c=np.dot(a,b)\n",
        "print(c)\n",
        "\n",
        "d=np.linalg.eig(c)\n",
        "print(d)"
      ]
    },
    {
      "cell_type": "code",
      "execution_count": null,
      "metadata": {
        "colab": {
          "base_uri": "https://localhost:8080/"
        },
        "id": "suwdv3OP0FG6",
        "outputId": "4c264b75-08e7-4e6c-a79f-30df5e089edb"
      },
      "outputs": [
        {
          "output_type": "stream",
          "name": "stdout",
          "text": [
            "None\n",
            "[[1 2 3 4 5 6]\n",
            " [7 8 9 4 9 2]]\n"
          ]
        }
      ],
      "source": [
        "data =np.loadtxt(\"/content/drive/MyDrive/DataSet/Dap.txt\",dtype=int)\n",
        "d=np.savetxt(\"/content/Dap.txt\",data)\n",
        "print(d)\n",
        "print(data)"
      ]
    },
    {
      "cell_type": "code",
      "source": [
        "arr=np.arange(0,100,5)\n",
        "print(arr)\n",
        "\n",
        "data=np.savetxt(\"/content/arr.txt\",arr)"
      ],
      "metadata": {
        "colab": {
          "base_uri": "https://localhost:8080/"
        },
        "id": "m4QFK4qpM5OM",
        "outputId": "626bf940-a717-4a3c-9931-546fc22f2218"
      },
      "execution_count": null,
      "outputs": [
        {
          "output_type": "stream",
          "name": "stdout",
          "text": [
            "[ 0  5 10 15 20 25 30 35 40 45 50 55 60 65 70 75 80 85 90 95]\n"
          ]
        }
      ]
    },
    {
      "cell_type": "code",
      "source": [
        "\n",
        "a=np.random.rand()\n",
        "\n",
        "print(a)"
      ],
      "metadata": {
        "colab": {
          "base_uri": "https://localhost:8080/"
        },
        "id": "BGfJbb27R6gW",
        "outputId": "a19fc913-2191-415a-d258-a3f1fdd7bcdf"
      },
      "execution_count": null,
      "outputs": [
        {
          "output_type": "stream",
          "name": "stdout",
          "text": [
            "0.9437162605912024\n"
          ]
        }
      ]
    },
    {
      "cell_type": "code",
      "source": [
        "b=np.random.randint(0,100)\n",
        "print(b)\n",
        "print(type(a))"
      ],
      "metadata": {
        "colab": {
          "base_uri": "https://localhost:8080/"
        },
        "id": "iFteDmtlSeTB",
        "outputId": "cd2999a7-8a5c-4697-ca7a-24a854ad7eb9"
      },
      "execution_count": null,
      "outputs": [
        {
          "output_type": "stream",
          "name": "stdout",
          "text": [
            "9\n",
            "<class 'float'>\n"
          ]
        }
      ]
    },
    {
      "cell_type": "code",
      "source": [
        "c=np.array([2,2])\n",
        "print(c)\n",
        "\n",
        "\n"
      ],
      "metadata": {
        "colab": {
          "base_uri": "https://localhost:8080/"
        },
        "id": "gdUODkcLTLjx",
        "outputId": "44b0a58c-2522-4418-c1f3-a15d1b3a14bb"
      },
      "execution_count": null,
      "outputs": [
        {
          "output_type": "stream",
          "name": "stdout",
          "text": [
            "[2 2]\n"
          ]
        }
      ]
    },
    {
      "cell_type": "code",
      "source": [
        "d=np.linspace(0.8,2,5)\n",
        "print(d)\n",
        "\n",
        "b=np.arange(24).reshape(3,2,4)\n",
        "print(b)\n",
        "\n"
      ],
      "metadata": {
        "colab": {
          "base_uri": "https://localhost:8080/"
        },
        "id": "cQvyhe80UG1m",
        "outputId": "f8a8549e-00e9-4e70-877a-ba38c89433cf"
      },
      "execution_count": null,
      "outputs": [
        {
          "output_type": "stream",
          "name": "stdout",
          "text": [
            "[0.8 1.1 1.4 1.7 2. ]\n",
            "[[[ 0  1  2  3]\n",
            "  [ 4  5  6  7]]\n",
            "\n",
            " [[ 8  9 10 11]\n",
            "  [12 13 14 15]]\n",
            "\n",
            " [[16 17 18 19]\n",
            "  [20 21 22 23]]]\n"
          ]
        }
      ]
    },
    {
      "cell_type": "code",
      "source": [
        "f=np.array([[99,100],[101,102]])\n",
        "h=np.array([[1,2],[3,4]])\n",
        "print(f/h)\n",
        "\n",
        "print(f*h)\n",
        "print(f%h)\n",
        "\n",
        "print(np.dot(f,h))\n",
        "print(f@(h))\n"
      ],
      "metadata": {
        "colab": {
          "base_uri": "https://localhost:8080/"
        },
        "id": "WIRufa-bW-8z",
        "outputId": "b26953af-cf3f-4b8c-b687-c115ff434a89"
      },
      "execution_count": null,
      "outputs": [
        {
          "output_type": "stream",
          "name": "stdout",
          "text": [
            "[[99.         50.        ]\n",
            " [33.66666667 25.5       ]]\n",
            "[[ 99 200]\n",
            " [303 408]]\n",
            "[[0 0]\n",
            " [2 2]]\n",
            "[[399 598]\n",
            " [407 610]]\n",
            "[[399 598]\n",
            " [407 610]]\n"
          ]
        }
      ]
    },
    {
      "cell_type": "code",
      "source": [
        "from numpy import random\n",
        "\n",
        "a=np.array([[1,2,3,4],[5,6,7,8]])\n",
        "\n",
        "print(a.sum())\n",
        "print(a.sum(axis=0))\n",
        "\n",
        "\n",
        "b=np.array([[2,3,5,6,7,8]])\n",
        "\n",
        "print(b.cumsum(axis=1))\n",
        "\n",
        "print(b.resize(3,2))\n",
        "\n",
        "print(b.shape)"
      ],
      "metadata": {
        "colab": {
          "base_uri": "https://localhost:8080/"
        },
        "id": "kAGb730tZFNL",
        "outputId": "d8cc7091-1a2e-42bc-c528-5778671078ac"
      },
      "execution_count": null,
      "outputs": [
        {
          "output_type": "stream",
          "name": "stdout",
          "text": [
            "36\n",
            "[ 6  8 10 12]\n",
            "[[ 2  5 10 16 23 31]]\n",
            "None\n",
            "(3, 2)\n"
          ]
        }
      ]
    },
    {
      "cell_type": "code",
      "source": [
        "a=np.array([[2,3,5,6,7,8]])\n",
        "\n",
        "print(a.resize(2,3))\n",
        "\n",
        "b=np.array([[9,10,11,12,13,14]])\n",
        "print(b.resize(2,3))\n",
        "\n",
        "print(np.vstack((a,b)))\n"
      ],
      "metadata": {
        "colab": {
          "base_uri": "https://localhost:8080/"
        },
        "id": "wziIjdIRfpLe",
        "outputId": "b787c7a2-862e-4769-bd32-5ae2227f8d3a"
      },
      "execution_count": null,
      "outputs": [
        {
          "output_type": "stream",
          "name": "stdout",
          "text": [
            "None\n",
            "None\n",
            "[[ 2  3  5]\n",
            " [ 6  7  8]\n",
            " [ 9 10 11]\n",
            " [12 13 14]]\n"
          ]
        }
      ]
    },
    {
      "cell_type": "code",
      "source": [
        "a1=np.eye(4)\n",
        "print(a1)\n"
      ],
      "metadata": {
        "colab": {
          "base_uri": "https://localhost:8080/"
        },
        "id": "rqF2DelIW0Y2",
        "outputId": "ad722b83-f176-4baf-c6aa-d397e4a0b18f"
      },
      "execution_count": null,
      "outputs": [
        {
          "output_type": "stream",
          "name": "stdout",
          "text": [
            "[[1. 0. 0. 0.]\n",
            " [0. 1. 0. 0.]\n",
            " [0. 0. 1. 0.]\n",
            " [0. 0. 0. 1.]]\n"
          ]
        }
      ]
    },
    {
      "cell_type": "code",
      "source": [
        "x=[1,2,3]\n",
        "b1=np.array(x)\n",
        "print(b1)\n",
        "print(type(b1))\n"
      ],
      "metadata": {
        "colab": {
          "base_uri": "https://localhost:8080/"
        },
        "id": "J6JezbkBaMrp",
        "outputId": "000286ba-bea0-4348-9df8-623d725ec248"
      },
      "execution_count": null,
      "outputs": [
        {
          "output_type": "stream",
          "name": "stdout",
          "text": [
            "[1 2 3]\n",
            "<class 'numpy.ndarray'>\n"
          ]
        }
      ]
    },
    {
      "cell_type": "code",
      "source": [
        "x=np.array([1,4,0],float)\n",
        "y=np.array([2,2,1],float)\n",
        "print(np.inner(x,y))\n",
        "print(np.outer(x,y))\n",
        "print(np.cross(x,y))\n"
      ],
      "metadata": {
        "colab": {
          "base_uri": "https://localhost:8080/"
        },
        "id": "lj7R2FJiaupk",
        "outputId": "05e86038-5d8e-47db-de89-ce0df2f672a8"
      },
      "execution_count": null,
      "outputs": [
        {
          "output_type": "stream",
          "name": "stdout",
          "text": [
            "10.0\n",
            "[[2. 2. 1.]\n",
            " [8. 8. 4.]\n",
            " [0. 0. 0.]]\n",
            "[ 4. -1. -6.]\n"
          ]
        }
      ]
    },
    {
      "cell_type": "code",
      "source": [
        "a=np.array([1.1,1.2,1.3])\n",
        "print(np.rint(a))\n",
        "\n",
        "b=np.array([15,55,65,89,90])\n",
        "c=np.array([45,85,75,86,70])\n",
        "print(np.true_divide(b,c))\n",
        "\n",
        "\n",
        "\n"
      ],
      "metadata": {
        "colab": {
          "base_uri": "https://localhost:8080/"
        },
        "id": "jMFf_0NLc251",
        "outputId": "025926a8-883d-42f6-f01b-e60fbd2752a5"
      },
      "execution_count": null,
      "outputs": [
        {
          "output_type": "stream",
          "name": "stdout",
          "text": [
            "[1. 1. 1.]\n",
            "[0.33333333 0.64705882 0.86666667 1.03488372 1.28571429]\n"
          ]
        }
      ]
    },
    {
      "cell_type": "code",
      "source": [
        "g=np.array([[15,55],[85,55]])\n",
        "h=np.array([[45,85],[15,10]])\n",
        "print(np.union1d(g,h))\n",
        "\n",
        "print(np.intersect1d(g,h))\n",
        "\n",
        "print(np.setdiff1d(g,h))\n",
        "\n",
        "a=np.array([[10,21,50,2,25,25]])\n",
        "b=np.array([[10,21,50,2,25,25]])\n",
        "c=np.divmod(a,b)\n",
        "print(c)\n",
        "\n",
        "print(np.divide(a,b))\n",
        "\n",
        "print(np.multiply(a,b))\n",
        "\n",
        "\n"
      ],
      "metadata": {
        "colab": {
          "base_uri": "https://localhost:8080/"
        },
        "id": "qhvzC3KjfV-B",
        "outputId": "4f9243f6-cc57-4291-f5d8-7cb07d4c1975"
      },
      "execution_count": null,
      "outputs": [
        {
          "output_type": "stream",
          "name": "stdout",
          "text": [
            "[10 15 45 55 85]\n",
            "[15 85]\n",
            "[55]\n",
            "(array([[1, 1, 1, 1, 1, 1]]), array([[0, 0, 0, 0, 0, 0]]))\n",
            "[[1. 1. 1. 1. 1. 1.]]\n",
            "[[ 100  441 2500    4  625  625]]\n"
          ]
        }
      ]
    },
    {
      "cell_type": "code",
      "source": [
        "from numpy import random\n",
        "x=random.normal(size=(2,3))\n",
        "print(x)\n",
        "print(\"  \")\n",
        "x=random.normal(loc=1,scale=2,size=(2,3))\n",
        "print(x)\n",
        "print(\"   \")\n",
        "x=random.binomial(n=12,p=0.5,size=10)\n",
        "print(x)\n",
        "print(\"   \")\n",
        "x=random.choice([3,5])\n",
        "print(x)\n",
        "print(\"   \")\n",
        "x=random.choice([3,5],p=[.5,.5],size=(3,5))\n",
        "print(x)"
      ],
      "metadata": {
        "colab": {
          "base_uri": "https://localhost:8080/"
        },
        "id": "3FpDRTIxjOA1",
        "outputId": "4b20ef82-fc3e-49f5-be6b-5492d8221437"
      },
      "execution_count": null,
      "outputs": [
        {
          "output_type": "stream",
          "name": "stdout",
          "text": [
            "[[-1.59203594  0.14134687 -0.0585691 ]\n",
            " [ 0.50338226 -0.22762238 -1.20342684]]\n",
            "  \n",
            "[[ 0.86137023  2.04092751 -2.57888557]\n",
            " [ 3.4872083  -1.32344973  4.56819444]]\n",
            "   \n",
            "[ 6  6  4  6  6  3  4 10  7  5]\n",
            "   \n",
            "3\n",
            "   \n",
            "[[5 3 3 3 3]\n",
            " [5 3 5 5 3]\n",
            " [3 5 5 5 3]]\n"
          ]
        }
      ]
    },
    {
      "cell_type": "markdown",
      "source": [
        " union1d remove common elements\n",
        " intersect1d prints common elements\n"
      ],
      "metadata": {
        "id": "xk7R2pGXf0eS"
      }
    },
    {
      "cell_type": "code",
      "source": [],
      "metadata": {
        "id": "umqNV6Zrc1uC"
      },
      "execution_count": null,
      "outputs": []
    }
  ],
  "metadata": {
    "accelerator": "GPU",
    "colab": {
      "gpuType": "T4",
      "provenance": []
    },
    "kernelspec": {
      "display_name": "Python 3",
      "name": "python3"
    },
    "language_info": {
      "name": "python"
    }
  },
  "nbformat": 4,
  "nbformat_minor": 0
}